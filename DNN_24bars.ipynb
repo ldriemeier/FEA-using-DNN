{
  "nbformat": 4,
  "nbformat_minor": 0,
  "metadata": {
    "kernelspec": {
      "display_name": "Python 3",
      "language": "python",
      "name": "python3"
    },
    "language_info": {
      "codemirror_mode": {
        "name": "ipython",
        "version": 3
      },
      "file_extension": ".py",
      "mimetype": "text/x-python",
      "name": "python",
      "nbconvert_exporter": "python",
      "pygments_lexer": "ipython3",
      "version": "3.8.5"
    },
    "colab": {
      "name": "DNN_24bars.ipynb",
      "provenance": [],
      "collapsed_sections": [
        "uXDe0QNzcGgw"
      ],
      "toc_visible": true
    },
    "accelerator": "GPU"
  },
  "cells": [
    {
      "cell_type": "markdown",
      "metadata": {
        "id": "DGw3cThWcGgb"
      },
      "source": [
        "# Deep Learning in Structural Engineering\n",
        "__by Larissa Driemeier$^{[1]}$, Eduardo L. Cabral, Gabriel L. Rodrigues, Lucas P. da Costa, Rafael T. Moura__\n",
        "\n",
        "<font size=\"2\">${[1]}$ driemeie@usp.br</font> \n",
        "\n",
        "\n",
        "This notebook is based on the article [Deep Neural Network application in the nonlinear analysis of a 3D star like bar structure](www.???.???) submitted to the International Journal of Plasticity."
      ]
    },
    {
      "cell_type": "code",
      "metadata": {
        "id": "8Yq6JFrkcGgm",
        "outputId": "2a76bbbf-3dcb-4a7b-e8d9-7b8d50856a85"
      },
      "source": [
        "!nvidia-smi"
      ],
      "execution_count": null,
      "outputs": [
        {
          "output_type": "stream",
          "text": [
            "Sat Mar  6 00:11:46 2021       \r\n",
            "+-----------------------------------------------------------------------------+\r\n",
            "| NVIDIA-SMI 460.39       Driver Version: 460.39       CUDA Version: 11.2     |\r\n",
            "|-------------------------------+----------------------+----------------------+\r\n",
            "| GPU  Name        Persistence-M| Bus-Id        Disp.A | Volatile Uncorr. ECC |\r\n",
            "| Fan  Temp  Perf  Pwr:Usage/Cap|         Memory-Usage | GPU-Util  Compute M. |\r\n",
            "|                               |                      |               MIG M. |\r\n",
            "|===============================+======================+======================|\r\n",
            "|   0  GeForce GTX 108...  Off  | 00000000:01:00.0 Off |                  N/A |\r\n",
            "|  0%   36C    P8     9W / 250W |    173MiB / 11170MiB |      1%      Default |\r\n",
            "|                               |                      |                  N/A |\r\n",
            "+-------------------------------+----------------------+----------------------+\r\n",
            "                                                                               \r\n",
            "+-----------------------------------------------------------------------------+\r\n",
            "| Processes:                                                                  |\r\n",
            "|  GPU   GI   CI        PID   Type   Process name                  GPU Memory |\r\n",
            "|        ID   ID                                                   Usage      |\r\n",
            "|=============================================================================|\r\n",
            "|    0   N/A  N/A      1901      G   /usr/lib/xorg/Xorg                104MiB |\r\n",
            "|    0   N/A  N/A      1952      G   /usr/bin/sddm-greeter              65MiB |\r\n",
            "+-----------------------------------------------------------------------------+\r\n"
          ],
          "name": "stdout"
        }
      ]
    },
    {
      "cell_type": "markdown",
      "metadata": {
        "id": "5r2dfGq4cGgn"
      },
      "source": [
        "## Geometry\n",
        "\n",
        "The figure below shows a star-dome like 3D truss with 24 bars of different cross sectional areas.  The highly nonlinear response, leading to a snap-through effect, makes the structure widely explored as a benchmark for new algorithmighly nonlinear response, leading to a snap-through effect, makes the structure widely explored as a benchmark for new algorithms, quite explored in the literature.\n",
        "\n",
        "\n",
        "![](https://drive.google.com/uc?export=view&id=1g0e2typbuIsDmVsSaoVHbk2DiGZjV1gv)\n",
        "\n",
        "The geometry is defined by a random set of 24 different cross section areas. Then, the structure is loaded and analysed in the commercial FE software Abaqus. A table with displacement of the central node and reactions - is provided as output.\n",
        "\n",
        "The node coordinates and bar numbers are illustrated in Figure below.\n",
        "\n",
        "![](https://drive.google.com/uc?export=view&id=1uoRaICzsRZtLYEDUsUFwXlLIcrwcSeE9)\n",
        "\n",
        "\n",
        "For the NN, the areas are the input data and the displacements  and reactions are the output."
      ]
    },
    {
      "cell_type": "markdown",
      "metadata": {
        "id": "UcoJRNaKcGgn"
      },
      "source": [
        "## Libraries\n",
        "Throughout this notebook the new version 2.3.0 of Tersorflow was used, with built-in keras support, which has been recently released to the public.\n",
        "Follow the instructions in [the official website](https://www.tensorflow.org/install), to guarantee that the right version is installed.\n",
        "\n",
        "The rest of the libraries used were simply installed using pip, the default Python tool for installing packages. These include:\n",
        "\n",
        "- NumPy: library for dealing with large matrices and also providing optimized functions for these data structures\n",
        "\n",
        "- pandas: used to visualize the data and to work with the dataset.\n",
        "\n",
        "- matplotlib: used to generate plots from the models.\n",
        "\n",
        "- sklearn (also known as scikit-learn): used because of the many useful functions and utilities it provides for machine learning."
      ]
    },
    {
      "cell_type": "code",
      "metadata": {
        "id": "WWWgYFTgcGgn",
        "outputId": "246f2659-b2cc-4cd1-ef9e-aa8c465f747a"
      },
      "source": [
        "import tensorflow as tf\n",
        "tf.__version__"
      ],
      "execution_count": null,
      "outputs": [
        {
          "output_type": "execute_result",
          "data": {
            "text/plain": [
              "'2.3.0'"
            ]
          },
          "metadata": {
            "tags": []
          },
          "execution_count": 2
        }
      ]
    },
    {
      "cell_type": "code",
      "metadata": {
        "id": "6hVXOVkTcGgo"
      },
      "source": [
        "from tensorflow import keras\n",
        "from keras import models\n",
        "from keras import callbacks\n",
        "\n",
        "from tensorflow.keras import layers\n",
        "from keras.layers import Dense, Activation\n",
        "from keras.layers import LeakyReLU, Dropout\n",
        "\n",
        "from keras.utils import plot_model\n",
        "from tensorflow.keras.models import load_model\n",
        "import pydot\n",
        "\n",
        "from keras.callbacks import ModelCheckpoint\n",
        "from keras.callbacks import EarlyStopping\n",
        "from keras.callbacks import ReduceLROnPlateau\n",
        "\n",
        "import h5py\n",
        "import os\n",
        "\n",
        "from sklearn import preprocessing\n",
        "from sklearn.preprocessing import MinMaxScaler\n",
        "from sklearn.preprocessing import MaxAbsScaler\n",
        "from sklearn.model_selection import StratifiedKFold\n",
        "from keras.wrappers.scikit_learn import KerasRegressor\n",
        "from sklearn.preprocessing import StandardScaler\n",
        "from sklearn.pipeline import Pipeline\n",
        "from sklearn.model_selection import train_test_split\n",
        "\n",
        "import seaborn as sns\n",
        "sns.set(style=\"whitegrid\", palette='Paired', color_codes=True)\n",
        "\n",
        "import numpy as np\n",
        "import pandas as pd\n",
        "\n",
        "import datetime\n",
        "import matplotlib.pyplot as plt\n",
        "\n",
        "import csv\n",
        "\n",
        "import gdown\n"
      ],
      "execution_count": null,
      "outputs": []
    },
    {
      "cell_type": "markdown",
      "metadata": {
        "id": "tPO8tMEGdhZG"
      },
      "source": [
        "Color pattern used throughout the notebook:"
      ]
    },
    {
      "cell_type": "code",
      "metadata": {
        "id": "i7JL8XTqcGgo"
      },
      "source": [
        "colors = ['royalblue','lightseagreen', 'forestgreen', 'mediumseagreen']#['midnightblue', 'darkslateblue','mediumslateblue']"
      ],
      "execution_count": null,
      "outputs": []
    },
    {
      "cell_type": "markdown",
      "metadata": {
        "id": "Ik8lv2sScGgo"
      },
      "source": [
        "## Data Upload\n",
        "\n",
        "Three files are available to upload in the :\n",
        "1. the dataset containing the areas, `areas24.csv`;\n",
        "2. displacements and reaction force along the time, `FinalResult.csv`;\n",
        "3. the dataset with all models with snap-back instability behaviour,  `Snapback.csv`.\n",
        "\n",
        "See that `FinalResult.csv` is a huge file, so, it is compressed into 2 parts.\n",
        "\n",
        "If you prefer to generate your own data, we suggest to use the student version of the software [Abaqus](https://edu.3ds.com/en/software/abaqus-student-edition). The following files are available here:\n",
        " 1. To generate random areas `generate_areas_24.py`;\n",
        " 2. Script to run in Abaqus to generate data `24-bar-truss.py`;\n",
        " 3. Basic geometry to be called by the script mentioned in item 2 `Job-24-bar.inp`.\n",
        " 4. copy the file `extracted_data_DATA_HOUR.csv` as `FinalResult.csv` to upload.\n",
        "\n",
        "The file `Negative_Deleted_Values.csv` is uploaded with one example of structure with stability problems, not considered in the training of the DNN.\n",
        "The files presented in the work are availabe in this [link](https://github.com/ldriemeier/FEA-using-DNN/blob/main/README.md), in the folders *Datasets* and *DataseGeneration*, respectively. "
      ]
    },
    {
      "cell_type": "code",
      "metadata": {
        "scrolled": true,
        "id": "5-r5VSz6cGgp"
      },
      "source": [
        "#total data: 9910\n",
        "url1 = 'https://drive.google.com/uc?id=1yMa23O6bgjoaJqHkeqN3lA4An2pocbLW'\n",
        "url2 = 'https://drive.google.com/uc?id=1Zaee5kIJ8hSpR6FfQ97SpncGVJsXpv4M'\n",
        "url3 = 'https://drive.google.com/uc?id=1PeautqdDfCaHYof9D5o2RTW1cENkvN1D'\n",
        "url4 = 'https://drive.google.com/uc?id=1d6G7KluMOO287Z2-XWAZi2cgXSIsRPbR'\n",
        "areas = 'areas24.csv'\n",
        "FinalResult = 'FinalResult.csv'\n",
        "Snapback = 'Snapback.csv'\n",
        "Negative = 'Negative_Deleted_Values.csv'\n",
        "gdown.download(url1,areas, quiet=False)\n",
        "gdown.download(url2,FinalResult, quiet=False)\n",
        "gdown.download(url3,Snapback, quiet=False)\n",
        "gdown.download(url4,Negative, quiet=False)"
      ],
      "execution_count": null,
      "outputs": []
    },
    {
      "cell_type": "code",
      "metadata": {
        "id": "VC41Ylb_cGgp"
      },
      "source": [
        "with open('Snapback.csv') as f:\n",
        "    data = [int(s) for line in f.readlines() for s in line[:-1].split(',')]"
      ],
      "execution_count": null,
      "outputs": []
    },
    {
      "cell_type": "markdown",
      "metadata": {
        "id": "qAgfvfQocGgp"
      },
      "source": [
        "### Geometry\n",
        "\n",
        "Each set of 24 random areas compounds one complete star-dome like 3D structure. Moreover, a binary These values will be the inputs of the Neural Network."
      ]
    },
    {
      "cell_type": "code",
      "metadata": {
        "id": "kPpbnOZ-cGgp"
      },
      "source": [
        "areas = pd.read_csv('areas24.csv', index_col='area_id')\n",
        "areas.index.names = ['ID']\n",
        "areas['Snapback'] = 0\n",
        "\n",
        "areas['tmp'] = areas.index\n",
        "for i in data:\n",
        "  areas.loc[areas.tmp == i, 'Snapback'] = 1\n",
        "del areas['tmp']\n",
        "\n",
        "areas.head(20)"
      ],
      "execution_count": null,
      "outputs": []
    },
    {
      "cell_type": "code",
      "metadata": {
        "id": "egmTjfkvcGgq"
      },
      "source": [
        "areas.shape"
      ],
      "execution_count": null,
      "outputs": []
    },
    {
      "cell_type": "code",
      "metadata": {
        "id": "5qrWwmlGcGgq"
      },
      "source": [
        "zeros, ones = areas['Snapback'].value_counts()\n",
        "total = zeros + ones\n",
        "print('Examples:\\n    Total: {}\\n    Positive: {} ({:.2f}% of total)\\n'.format(\n",
        "    total, ones, 100 * ones / total))"
      ],
      "execution_count": null,
      "outputs": []
    },
    {
      "cell_type": "code",
      "metadata": {
        "id": "Nu51AknfcGgq"
      },
      "source": [
        "areas.describe()"
      ],
      "execution_count": null,
      "outputs": []
    },
    {
      "cell_type": "markdown",
      "metadata": {
        "id": "AwglFVq8cGgr"
      },
      "source": [
        "Below, the coordinates of the nodes and conectivity of the bars are defined, as in the script to run in Abaqus."
      ]
    },
    {
      "cell_type": "code",
      "metadata": {
        "id": "SIzsCThtcGgr"
      },
      "source": [
        "nbar,nnode = 24, 13\n",
        "\n",
        "Nodes=[[-433.0,-250.0],\n",
        "[-250.0,0.0],\n",
        "[0.0,0.0],\n",
        "[125.0,216.506351],\n",
        "[0.0,500.0],\n",
        "[-125.0,216.506351],\n",
        "[250.0,0.0],\n",
        "[125.0,-216.506351],\n",
        "[-125.0,-216.506351],\n",
        "[-433.0,250.0],\n",
        "[433.0,250.0], \n",
        "[433.0,-250.0],\n",
        "[0.0,-500.0]\n",
        "]\n",
        "Bars = [[1,  1,  2],\n",
        "[2,  3,  2],\n",
        "[3,  4,  3],\n",
        "[4,  5,  4],\n",
        "[5,  6,  5],\n",
        "[6,  4,  6],\n",
        "[7,  7,  4],\n",
        "[8,  8,  7],\n",
        "[9,  9,  8],\n",
        "[10,  2,  9],\n",
        "[11,  2,  6],\n",
        "[12,  6, 10],\n",
        "[13,  2, 10],\n",
        "[14,  9,  1],\n",
        "[15,  3,  9],\n",
        "[16,  3,  7],\n",
        "[17, 11,  7],\n",
        "[18,  4, 11],\n",
        "[19,  7, 12],\n",
        "[20,  8, 13],\n",
        "[21,  3,  8],\n",
        "[22,  3,  6],\n",
        "[23, 13,  9],\n",
        "[24, 12,  8]\n",
        "]"
      ],
      "execution_count": null,
      "outputs": []
    },
    {
      "cell_type": "markdown",
      "metadata": {
        "id": "-SkxObV7cGgr"
      },
      "source": [
        "The stars are plotted with different line thicknesses for each bar, depending on the range of the cross sectional area. "
      ]
    },
    {
      "cell_type": "code",
      "metadata": {
        "id": "TFYSGtZicGgr"
      },
      "source": [
        "n_examples = 4\n",
        "comb0=[100, 196, 208, 395]\n",
        "comb1 = [95, 197,209,396]\n",
        "comb2= [ 220, 554, 690, 1102]#\n",
        "comb = [comb0, comb1, comb2]\n",
        "\n",
        "fig, axs = plt.subplots(nrows=3, ncols=4, figsize=(21,21), sharex=True, sharey=True)\n",
        "for j in range(3):\n",
        "  examples = comb[j]\n",
        "  for k in range(n_examples):\n",
        "    k2 = examples[k]\n",
        "    for i in range(nbar):\n",
        "      index1,index2 = Bars[i][1], Bars[i][2]\n",
        "      place = areas.iloc[k2-1][i]\n",
        "      if place <=35:\n",
        "        c_perc = 0\n",
        "      elif place > 35 and place <=45:\n",
        "        c_perc = 1\n",
        "      elif place > 45 and place <=55:\n",
        "        c_perc = 2\n",
        "      elif place > 55 and place <=65:\n",
        "        c_perc = 3\n",
        "      elif place > 65 and place <=75:\n",
        "        c_perc = 4\n",
        "      else:\n",
        "        c_perc = 5\n",
        "      x1, y1 = [Nodes[index1-1][0], Nodes[index2-1][0]], [Nodes[index1-1][1], Nodes[index2-1][1]]\n",
        "      axs[j,k].plot(x1, y1, linewidth = c_perc+1, color = colors[k])#colors[c_perc])\n",
        "      axs[j,k].set_aspect('equal')\n",
        "plt.draw()"
      ],
      "execution_count": null,
      "outputs": []
    },
    {
      "cell_type": "markdown",
      "metadata": {
        "id": "xrcEOkd3cGgs"
      },
      "source": [
        "Some structures combined areas in such a way that the behaviour presented severe snapback. Such area cimbinations are illustrated below."
      ]
    },
    {
      "cell_type": "code",
      "metadata": {
        "id": "OcUUfkVMcGgs"
      },
      "source": [
        "n_examples = 2\n",
        "severe_snapback_train = [7936,4056,4241,6472,9813,4480,787,9517,8874,2668,3341,1944,8911] #3452\n",
        "severe_snapback_val = [156,8126,6978,9971,5666,5678,8748]\n",
        "\n",
        "comb = [156,787,9517]\n",
        "\n",
        "fig, axs = plt.subplots(nrows=1, ncols=3, figsize=(21,21), sharex=True, sharey=True)\n",
        "for j in range(3):\n",
        "    k2 = comb[j]\n",
        "    for i in range(nbar):\n",
        "      index1,index2 = Bars[i][1], Bars[i][2]\n",
        "      place = areas.iloc[k2-1][i]\n",
        "      if place <=35:\n",
        "        c_perc = 0\n",
        "      elif place > 35 and place <=45:\n",
        "        c_perc = 1\n",
        "      elif place > 45 and place <=55:\n",
        "        c_perc = 2\n",
        "      elif place > 55 and place <=65:\n",
        "        c_perc = 3\n",
        "      elif place > 65 and place <=75:\n",
        "        c_perc = 4\n",
        "      else:\n",
        "        c_perc = 5\n",
        "      x1, y1 = [Nodes[index1-1][0], Nodes[index2-1][0]], [Nodes[index1-1][1], Nodes[index2-1][1]]\n",
        "      axs[j].plot(x1, y1, linewidth = c_perc+1, color = colors[j])#colors[c_perc])\n",
        "      axs[j].set_aspect('equal')\n",
        "plt.draw()"
      ],
      "execution_count": null,
      "outputs": []
    },
    {
      "cell_type": "markdown",
      "metadata": {
        "id": "Gv8v8lhGcGgs"
      },
      "source": [
        "The cross sectional areas are randomly distributed for all bars. The figures below show that the number of times that each bar has a specific cross sectional area is approximately equally distributed within the adopted range."
      ]
    },
    {
      "cell_type": "code",
      "metadata": {
        "id": "3NY_mf_wcGgs"
      },
      "source": [
        "areas.hist(column = ['area1', 'area10', 'area20','Snapback'],figsize = (12,10))\n",
        "plt.show()"
      ],
      "execution_count": null,
      "outputs": []
    },
    {
      "cell_type": "markdown",
      "metadata": {
        "id": "9c4xipt8cGgs"
      },
      "source": [
        "### FEA results\n",
        "\n",
        "Read the results from FEA, where `u3` is the displacement at the central node  $(h=72.16$ $mm)$ and `force` is the reaction force.\n",
        "\n",
        "There is a force vs displacement curve for each structure, with different set of random areas previously defined."
      ]
    },
    {
      "cell_type": "code",
      "metadata": {
        "id": "aaqr3n89cGgt"
      },
      "source": [
        "output = pd.read_csv('FinalResult.csv')\n",
        "output.head()"
      ],
      "execution_count": null,
      "outputs": []
    },
    {
      "cell_type": "code",
      "metadata": {
        "id": "-QRi39jzcGgt"
      },
      "source": [
        "output.shape"
      ],
      "execution_count": null,
      "outputs": []
    },
    {
      "cell_type": "code",
      "metadata": {
        "id": "gXxgz5qGcGgt"
      },
      "source": [
        "output.describe()"
      ],
      "execution_count": null,
      "outputs": []
    },
    {
      "cell_type": "code",
      "metadata": {
        "id": "cK1n232BcGgt"
      },
      "source": [
        "plt.figure(figsize=(4,4))\n",
        "sns.heatmap(output.corr(),cmap = sns.color_palette(\"Blues\"))\n",
        "plt.title('Correlation Heatmap')\n",
        "plt.show()"
      ],
      "execution_count": null,
      "outputs": []
    },
    {
      "cell_type": "code",
      "metadata": {
        "id": "VdF-I_MucGgt"
      },
      "source": [
        "output.hist(column = ['u3', 'force'],figsize = (12,10))\n",
        "plt.show()"
      ],
      "execution_count": null,
      "outputs": []
    },
    {
      "cell_type": "markdown",
      "metadata": {
        "id": "0FlyaXeXcGgu"
      },
      "source": [
        "The figure below illustrates the negative *ad hoc* behaviour barely found in some special area combinations. Structures with such behaviour were not considered for DNN training."
      ]
    },
    {
      "cell_type": "code",
      "metadata": {
        "id": "pVnONzTKcGgu"
      },
      "source": [
        "negative = pd.read_csv('Negative_Deleted_Values.csv', names=['Disp', 'Force'])\n",
        "negative.head()"
      ],
      "execution_count": null,
      "outputs": []
    },
    {
      "cell_type": "code",
      "metadata": {
        "id": "Azyf96FUcGgu"
      },
      "source": [
        "fig, ax = plt.subplots(1,2, figsize=(15,8), sharey=False)\n",
        "\n",
        "ax[0].plot(negative['Disp'],negative ['Force']/1000., color=colors[0], linewidth=2)\n",
        "ax[0].set(xlabel='Imposed displacement in z direction [mm]', ylabel='Reaction Force [kN]',\n",
        "          title='Negative behaviour')\n",
        "\n",
        "ax[1].plot(negative['Disp'],negative ['Force']/1000., color=colors[1], linewidth=2)\n",
        "ax[1].set(xlabel='Imposed displacement in z direction [mm]', ylabel='Reaction Force [kN]',\n",
        "       title='Zoom')\n",
        "\n",
        "ax[1].set_xlim([0., 70.])\n",
        "ax[1].set_ylim([-10., 15.])\n",
        "plt.show()"
      ],
      "execution_count": null,
      "outputs": []
    },
    {
      "cell_type": "markdown",
      "metadata": {
        "id": "73j2OFq-cGgu"
      },
      "source": [
        "## Data manipulation\n",
        "\n",
        "### Interpolation\n",
        "\n",
        "Now, let's interpolate the data of all outputs to fix `n_out` FEA points. The objective is to mantain the output vector with constant dimension, altough the number of increments varies according to the nonlinear problem and it is controlled by Abaqus software.\n",
        "\n",
        "Since force and displacement decrease the values, the interpolation is done in time. However, results with *severe snapback* cointain more points near the snapback region, since the convergence is harder for the FE program. That is why the points are not equally distributed. \n",
        "\n",
        "**Important:** see that we're also changing the units of Force to KN, to avoid a considerable difference between displacement and force magnitude for our output. This difference in order of magnitude in the output could impair the performance of the network."
      ]
    },
    {
      "cell_type": "code",
      "metadata": {
        "id": "vLcHxxzncGgu"
      },
      "source": [
        "from scipy.ndimage import interpolation\n",
        "\n",
        "\n",
        "# In order to have the same output dimensions\n",
        "n_out = 50\n",
        "\n",
        "disp = []\n",
        "forc = []\n",
        "areaID = np.unique(output.area_id.values)\n",
        "\n",
        "for i in areaID:\n",
        "    snap = areas['Snapback'].values[j]\n",
        "    forc_aux = output.loc[output['area_id'].isin([i])].force.values/1000.\n",
        "    disp_aux = output.loc[output['area_id'].isin([i])].u3.values\n",
        "    time = output.loc[output['area_id'].isin([i])].time.values\n",
        "    \n",
        "    dispt = []\n",
        "    forct = []\n",
        "    timet = []\n",
        "    dist = 0.0\n",
        "    for node in range(1,5):\n",
        "        dist += np.sqrt((disp_aux[node]-disp_aux[node-1])**2 + (forc_aux[node]-forc_aux[node-1])**2)\n",
        "        dispt.append(disp_aux[node])\n",
        "        forct.append(forc_aux[node])\n",
        "        timet.append(time[node])    \n",
        "    dist_ave = dist/5.\n",
        "    dist = 0\n",
        "    for node in range(6,len(forc_aux)):\n",
        "        dist += np.sqrt((disp_aux[node]-disp_aux[node-1])**2 + (forc_aux[node]-forc_aux[node-1])**2)\n",
        "        if dist >= dist_ave:\n",
        "            dist = 0\n",
        "            dispt.append(disp_aux[node])\n",
        "            forct.append(forc_aux[node])\n",
        "            timet.append(time[node])    \n",
        "        \n",
        "# One-dimensional interpolation.\n",
        "    zoom = n_out/(np.float(len(timet)))\n",
        "    time1 = interpolation.zoom(timet,zoom,\n",
        "                            order=2,\n",
        "                            mode='nearest',\n",
        "                            prefilter=True)\n",
        "    forc.append(np.interp(time1, timet, forct))\n",
        "    disp.append(np.interp(time1, timet, dispt))\n",
        "\n",
        "forc = np.array(forc)\n",
        "disp = np.array(disp)\n",
        "areaID = np.array(areaID)\n",
        "print(forc.shape,disp.shape,areaID.shape)"
      ],
      "execution_count": null,
      "outputs": []
    },
    {
      "cell_type": "markdown",
      "metadata": {
        "id": "OP35LgJycGgu"
      },
      "source": [
        "As expected, the arrays `forc` and `disp` have the dimension of the number of area combinations vs `n_out`.\n",
        "\n",
        "Just to illustrate, the interpolated and FEA results are compared graphically."
      ]
    },
    {
      "cell_type": "markdown",
      "metadata": {
        "id": "D_tE_2v5cGgv"
      },
      "source": [
        "Below, an example of points distribution in a case considered of severe snapback."
      ]
    },
    {
      "cell_type": "code",
      "metadata": {
        "id": "7lSOVRPFcGgv"
      },
      "source": [
        "severe_snapback = [7936,4056,4241,6472,9813,787,156,9578]\n",
        "i = severe_snapback[6]\n",
        "disp_aux = output.loc[output['area_id'].isin([i])].u3.values\n",
        "forc_aux = output.loc[output['area_id'].isin([i])].force.values/1000.\n",
        "plt.scatter(disp_aux,forc_aux, color=colors[0], s=30, alpha = 0.1)\n",
        "j = np.where(areaID == i)\n",
        "plt.scatter(disp[j][:],forc[j][:], color=colors[1], s=25, label = 'Interpolated values')\n",
        "plt.title('Force displacement curve \\nin 3D star like bar structure')\n",
        "plt.xlabel('Imposed displacement in z direction [mm]')\n",
        "plt.ylabel('Reaction Force [kN]')\n",
        "plt.xlim((0.0,70.))\n",
        "plt.show()  "
      ],
      "execution_count": null,
      "outputs": []
    },
    {
      "cell_type": "markdown",
      "metadata": {
        "id": "UU9i8Vt3cGgv"
      },
      "source": [
        "Below, the response Force vs Displacement of a selected example is plotted, to illustrate the defined interpolation.\n",
        "\n",
        "Some area combination numbers with different behaviours,\n",
        "* Only snapthrough: $100, 196, 208, 395$\n",
        "* Snapback: $95, 197,209,396$\n",
        "* Negative: $220, 554, 690, 1102$"
      ]
    },
    {
      "cell_type": "code",
      "metadata": {
        "id": "-shRuNlLcGgv"
      },
      "source": [
        "fig, ax = plt.subplots()\n",
        "\n",
        "ex_snapthrough = [100,196,208,395]\n",
        "ex_snapback = [95,197,209,396]\n",
        "ex_negative = [220,554,690,1102]\n",
        "ex_severe_snapback = [156,787,9517]\n",
        "ex_comb = [26,95,396, 196]\n",
        "\n",
        "#change to the behaviour to be analysed\n",
        "ex = ex_comb\n",
        "\n",
        "for i,j in zip(ex,range(len(ex))):\n",
        "  disp_aux = output.loc[output['area_id'].isin([i])].u3.values\n",
        "  forc_aux = output.loc[output['area_id'].isin([i])].force.values/1000.\n",
        "  k = np.where(areaID == i)\n",
        "#  ax.scatter(disp[k,:], forc[k,:], c=colors[j], s=25, alpha = 0.7)\n",
        "  ax.plot(disp_aux, forc_aux, color=colors[j], linewidth=2, label = 'Structure ID = '+str(i))\n",
        "\n",
        "ax.set(#title='Force displacement curve \\nin 3D star like bar structure',\n",
        "       xlabel='Imposed displacement in z direction [mm]',\n",
        "       ylabel='Reaction Force [kN]');\n",
        "plt.legend()\n",
        "plt.xlim((0.0,70.))\n",
        "plt.ylim((-10.,20.0))\n",
        "\n",
        "plt.show()   "
      ],
      "execution_count": null,
      "outputs": []
    },
    {
      "cell_type": "code",
      "metadata": {
        "id": "vWw6TDTVcGgv"
      },
      "source": [
        "examples = [2501,16,11,787,95,9360,156,5601] #[2501,16,11,3526,95,9360,396,1321]\n",
        "fig, axs = plt.subplots(2, 4, sharex=True, sharey=True,figsize=(25,10))\n",
        "k,l = 0,0\n",
        "for i,j in zip(examples,range(len(examples))):\n",
        "  m = np.where(areaID == i)\n",
        "  if j<len(examples)/2:\n",
        "    axs[0,k].scatter(disp[m,:], forc[m,:], c= colors[0], s=20)\n",
        "    axs[0,k].set_title('Structure ID '+str(i))\n",
        "    k = k + 1\n",
        "  else:\n",
        "    axs[1,l].scatter(disp[m,:], forc[m,:], c = colors[0],s=20)\n",
        "    axs[1,l].set_title('Structure ID '+str(i))\n",
        "    l = l + 1\n",
        "fig.suptitle('Random examples') \n",
        "# set labels\n",
        "plt.setp(axs[-1, :], xlabel='Displacement [mm]',xlim = (0.,70.))\n",
        "plt.setp(axs[:, 0], ylabel='Force [KN]')"
      ],
      "execution_count": null,
      "outputs": []
    },
    {
      "cell_type": "markdown",
      "metadata": {
        "id": "BYYtnzCecGgw"
      },
      "source": [
        "Now, the `DisplacementForce` array will be generated concatenating the arrays `areaID`, `disp` and `forc`. \n",
        "\n",
        "See that, for any line $i$ in `DisplacementForce`, the first `n_out` columns are the displacements and the last `n_out` columns are the forces."
      ]
    },
    {
      "cell_type": "code",
      "metadata": {
        "id": "sR8M1R1wcGgw"
      },
      "source": [
        "DisplacementForce = np.concatenate((disp,forc),axis=1)\n",
        "\n",
        "print(DisplacementForce.shape)"
      ],
      "execution_count": null,
      "outputs": []
    },
    {
      "cell_type": "markdown",
      "metadata": {
        "id": "uXDe0QNzcGgw"
      },
      "source": [
        "### Splitting dataset\n",
        "\n",
        "The input for the NN is a vector with all 24 areas that compound the geometry of the structure. Remember that we mantain all other parameters, such as material properties and dimensions, fixed. The outputs are the curves Displacements vs Forces are stored in an array `DisplacementsForces`.\n",
        "\n",
        "Although, in general, the dataset is divided into *training, validation and testing sets*, here we'll have only *training and validation*. \n",
        "\n",
        "The validation set is used when *adjusting the model* to assess the cost function and other metrics, however, the model does not fit this data. The test set is not used during the training phase and is only used at the end to assess *how well the model generalizes to new data*. The test data is, in general, used to evaluate the performance of the model to deliver in the market, which is not our case."
      ]
    },
    {
      "cell_type": "markdown",
      "metadata": {
        "id": "MnwXqN1kcGgw"
      },
      "source": [
        "### Rescaling dataset\n",
        "\n",
        "The next logical step in the preprocessing pipeline is to scale the features. \n",
        "Many machine learning methods expect or are more effective if the data attributes have the same scale. There are three popular data scaling methods:\n",
        "\n",
        "\n",
        "```\n",
        "from sklearn import preprocessing\n",
        "\n",
        "normalizer = preprocessing.StandardScaler().fit(x_train)\n",
        "scaler = preprocessing.MaxAbsScaler().fit(x_train)\n",
        "scaler = preprocessing.MinMaxScaler().fit(x_train)\n",
        "```\n",
        "\n",
        "Standardization refers to shifting the distribution of each attribute to have a mean of zero and a standard deviation of one (unit variance). It is useful to standardize attributes for a model that relies on the distribution of attributes such as Gaussian processes.\n",
        "\n",
        "We're using the `MinMaxScaler`, since our output can contain negative values. \n",
        "It is, in general, used for data that is already centered at zero or sparse data. \n",
        "\n",
        "Before applying any scaling transformations it is very important to split the data into a train set and a test set, as we already did.\n",
        "\n",
        "The rescaling is made based on training values and the same parameters are used to rescale the validation set.\n",
        "\n",
        "The output data will be also rescaled, since the values of the displacements vary in many orders of magnitude from the forces. Again, based on the training set.\n",
        "\n",
        "The normalizer of the sklearn library was used to facilitate the process. The `inverse_transform` can be used, later, to recover the real values.\n",
        "\n",
        "During scaling, the data lies within the range $[-1, 1]$ by dividing through the largest maximum value in each feature.\n",
        "\n",
        "As an alternative suggestion, scaling should be in the range [-0.8, 0.8] in order to keep a scope for normalization of validation/test data that are outside the range of training samples."
      ]
    },
    {
      "cell_type": "code",
      "metadata": {
        "id": "tQLFcTpscGgx"
      },
      "source": [
        "x_train, x_val, y_train, y_val = train_test_split(areas, DisplacementForce, test_size=0.1, random_state=18) \n",
        "areas_train = x_train.index.values\n",
        "areas_val = x_val.index.values\n",
        "\n",
        "# Turns input and output data into Numpy tensors\n",
        "x_train_sca = np.array(x_train)\n",
        "x_val_sca = np.array(x_val)\n",
        "y_train_sca = np.array(y_train)\n",
        "y_val_sca = np.array(y_val)\n",
        "\n",
        "print('Dimension of training inputs    :', x_train.shape)\n",
        "print('Dimension of validation inputs  :', x_val.shape)\n",
        "\n",
        "print('Dimension of training outputs   :', y_train.shape)\n",
        "print('Dimension of validation outputs :', y_val.shape)\n",
        "\n",
        "# Scaling the input data using the MinMaxScaler from scikit-learn\n",
        "scaler_x = preprocessing.MinMaxScaler().fit(x_train)\n",
        "x_train_sca = scaler_x.transform(x_train)\n",
        "x_val_sca = scaler_x.transform(x_val)\n",
        "\n",
        "# Normalizing the output data using the normalizer from scikit-learn\n",
        "normalizer_y = preprocessing.MinMaxScaler(feature_range = (-0.9,0.9)).fit(y_train)#StandardScaler,MaxAbsScaler\n",
        "y_train_sca = normalizer_y.transform(y_train)\n",
        "y_val_sca = normalizer_y.transform(y_val)\n",
        "\n",
        "\n",
        "#  Min and Max in input\n",
        "min_x_train = np.min(x_train_sca)\n",
        "min_x_val = np.min(x_val_sca)\n",
        "max_x_train = np.max(x_train_sca)\n",
        "max_x_val = np.max(x_val_sca)\n",
        "\n",
        "# Mean and Standard Deviation in Output\n",
        "min_y_train = np.min(y_train_sca)#mean\n",
        "min_y_val = np.min(y_val_sca)\n",
        "max_y_train = np.max(y_train_sca)#std\n",
        "max_y_val = np.max(y_val_sca)\n",
        "\n",
        "\n",
        "print(f'For the input training set, the min is {min_x_train} and the max is {max_x_train}')\n",
        "print(f'For the input validation set, the min is {min_x_val} and the max is {max_x_val}')\n",
        "print(f'For the output train set, the min is {min_y_train} and the max is {max_y_train}')\n",
        "print(f'For the output validation set, the min is {min_y_val} and the max is {max_y_val}')"
      ],
      "execution_count": null,
      "outputs": []
    },
    {
      "cell_type": "markdown",
      "metadata": {
        "id": "srKrbHobcGgx"
      },
      "source": [
        "The plot below shows the de-scale of validation values back to their original values."
      ]
    },
    {
      "cell_type": "code",
      "metadata": {
        "id": "H3juAY6TcGgx"
      },
      "source": [
        "plt.scatter(y_val[100][0:n_out],y_val[100][-n_out:], s=50, label = 'Original')\n",
        "yy=normalizer_y.inverse_transform(y_val_sca)\n",
        "plt.scatter(yy[100][0:n_out],yy[100][-n_out:], s=4, label = 'Inverse transformation')\n",
        "plt.title('Inverse transformation of scaled data')\n",
        "plt.xlabel('Displacement [mm]')\n",
        "plt.ylabel('Force [N]')\n",
        "plt.xlim((0.0,70.))\n",
        "plt.legend()\n",
        "plt.show()"
      ],
      "execution_count": null,
      "outputs": []
    },
    {
      "cell_type": "markdown",
      "metadata": {
        "id": "NpAnzOCWcGgx"
      },
      "source": [
        "### Functions\n",
        "\n",
        "The functions below will help to plot comparative graphs."
      ]
    },
    {
      "cell_type": "code",
      "metadata": {
        "id": "givE3ZnpcGgx"
      },
      "source": [
        "# graph generation for training and validation sets\n",
        "def predict_curves(name,pred_sca, y, areas, ex = [200,194,71,31,14,0]):\n",
        "  colors = ['royalblue','lightseagreen', 'forestgreen', 'mediumseagreen']\n",
        "  y_new = normalizer_y.inverse_transform(pred_sca)\n",
        "  fig, ax = plt.subplots(nrows=1, ncols=6, sharex=True, sharey=True, constrained_layout=True,figsize=(20,5))\n",
        "  for i,j in zip(ex,range(len(ex))):\n",
        "    k = areas[i]\n",
        "    ax[j].plot(y[i][0:n_out],y[i][-n_out:],color = colors[0])\n",
        "    ax[j].scatter(y_new[i][0:n_out],y_new[i][-n_out:],s=8, color = colors[1])\n",
        "    ax[j].legend(['Target', 'Predicted'])\n",
        "    ax[j].set_title('Structure ID'+str(k))\n",
        "    ax[j].set_xlabel('Displacement [mm]')\n",
        "    ax[j].set_ylabel('Reaction Force [kN]')\n",
        "#  plt.xlim((0,70))\n",
        "  if name =='train':\n",
        "    plt.setp(ax, xlim=(0.,70.))\n",
        "    fig.suptitle('Training set', fontsize=18)\n",
        "  if name =='val':\n",
        "    plt.setp(ax, xlim=(0.,70.))\n",
        "    fig.suptitle('Validation set', fontsize=18)\n",
        "  plt.show()"
      ],
      "execution_count": null,
      "outputs": []
    },
    {
      "cell_type": "markdown",
      "metadata": {
        "id": "ybYl-Kp0cGgx"
      },
      "source": [
        "# ResNet\n",
        "### ResNet - Residual network\n",
        "\n",
        "According to  [He et al. (2015)](https://arxiv.org/pdf/1512.03385.pdf) deeper neural networks are more difficult to train, so, they proposed a *residual learning framework* to ease the training of convolutional networks that are substantially deep.\n",
        "\n",
        "With the network depth increases, accuracy gets saturated and then degrades rapidly. Unexpectedly, such degradation is not caused by overfitting, and adding more layers to a suitably deep model leads to higher training error. The figure below was extracted from the original article He et al. (2015).\n",
        "\n",
        " ![](https://drive.google.com/uc?export=view&id=1Oqc6ofxBuvJrH_kE7jVOEfV4hG4PRiy2)\n",
        "\n",
        "*ResNet* has a block called *Residual Block* that consists of a shortcut between two layers of the non-neighboring network. The shortcut connections simply perform identity mapping, and their outputs are added to the outputs of the stacked layers.\n",
        "\n",
        "Identity shortcut connections add neither extra parameter nor computational complexity. \n",
        "\n",
        "The residual block makes it easier to train very deep RNAs. For convolutional networks, see the [link](https://towardsdatascience.com/understanding-and-visualizing-resnets-442284831be8). For fully connected layers, see details in the [work](https://www.mdpi.com/1099-4300/22/2/193):\n",
        "Dongwei Chen, Fei Hu, Guokui Nian and Tiantian Yang, *Deep Residual Learning for Nonlinear Regression*, Entropy, January 2020.\n",
        "\n",
        "*Based on the structure of ResNet, we build a new neural network for nonlinear regression. Its architecture is presented in Figure 2. Convolutional layers and pooling layers are replaced by fully connected layers (or dense layers) in the residual block. Batch Normalization layers from the primary model are kept in our new model, which act as a regularizer in some cases, eliminating the need for Dropout, and allow people to use much higher learning rates and care less about initialization.(...)*\n",
        "<font size=\"2\">Extracted from Chen et al (2020)</font>\n",
        "\n",
        "The figure and table below shows identity and dense blocks  proposed by Chen et al (2020) and adopted in our architecture.\n",
        "\n",
        "![](https://drive.google.com/uc?export=view&id=1CCML2jBvVvs32L-YLjh2W7FAZFgIDrei)\n",
        "\n",
        "\n",
        ">Type of block | Input shape | Output shape | Activation Function | Same size I/O\n",
        ">--- | --- | --- | --- | --- \n",
        ">Input | (1,24) | (1, None*) | ReLU | False\n",
        ">Dense | (1,N2) |(1, N3) | ReLU | False\n",
        ">Identity | (1,N1) |(1, N1) | ReLU | True\n",
        ">Output | (1,None) | (1, None*) | Linear | False\n",
        "\n",
        "<font size=\"2\">*None  means the size of input in this dimension is uncertain.</font>"
      ]
    },
    {
      "cell_type": "code",
      "metadata": {
        "id": "qvY2mh5ncGgy"
      },
      "source": [
        "def sequential_block(input_tensor,units, activation = 'lrelu', lamb = 0.1):\n",
        "\t\"\"\"The identity block is the block that has no conv layer at shortcut.\n",
        "\t# Arguments\n",
        "\t\tinput_tensor: input tensor\n",
        "\t\tunits:output shape\n",
        "\t# Returns\n",
        "\t\tOutput tensor for the block.\n",
        "\t\"\"\"\n",
        "\n",
        "\tif activation == 'tanh':\n",
        "\t  activation = activation\n",
        "\telse:\n",
        "\t  activation = LeakyReLU(alpha=0.01)\n",
        "    \n",
        "\tunits1 = 4.0*units\n",
        "\tunits2 = 3.0*units\n",
        "\tunits3 = 2.0*units\n",
        "\tunits4 = 2.0*units\n",
        "\n",
        "\tx = layers.Dense(units1, use_bias=False, kernel_regularizer=keras.regularizers.l2(lamb))(input_tensor)\n",
        "\tx = layers.BatchNormalization()(x)\n",
        "\tx = layers.Activation(activation)(x)\n",
        "\n",
        "\tx = layers.Dense(units2, use_bias=False, kernel_regularizer=keras.regularizers.l2(lamb))(x)\n",
        "\tx = layers.BatchNormalization()(x)\n",
        "\tx = layers.Activation(activation)(x)\n",
        "\n",
        "\tx = layers.Dense(units3, use_bias=False, kernel_regularizer=keras.regularizers.l2(lamb))(x)\n",
        "\tx = layers.BatchNormalization()(x)\n",
        "\tx = layers.Activation(activation)(x)\n",
        "\n",
        "\tx = layers.Dense(units4, use_bias=False, kernel_regularizer=keras.regularizers.l2(lamb))(x)\n",
        "\tx = layers.BatchNormalization()(x)\n",
        "\tx = layers.Activation(activation)(x)\n",
        " \n",
        "\treturn x\n",
        "\n",
        "##\n",
        "## https://github.com/DowellChan/ResNetRegression/blob/master/ResNetOptimalModel.py\n",
        "\n",
        "def identity_block(input_tensor,units, activation = 'lrelu', lamb = 0.1):\n",
        "\t\"\"\"The identity block is the block that has no conv layer at shortcut.\n",
        "\t# Arguments\n",
        "\t\tinput_tensor: input tensor\n",
        "\t\tunits:output shape\n",
        "\t# Returns\n",
        "\t\tOutput tensor for the block.\n",
        "\t\"\"\"\n",
        "\n",
        "\tif activation == 'tanh':\n",
        "\t  activation = activation\n",
        "\telse:\n",
        "\t  activation = LeakyReLU(alpha=0.01)\n",
        "\n",
        "\tx = layers.Dense(units, use_bias=False, kernel_regularizer=keras.regularizers.l2(lamb))(input_tensor)\n",
        "\tx = layers.BatchNormalization()(x)\n",
        "\tx = layers.Activation(activation)(x)\n",
        "\n",
        "\tx = layers.Dense(units, use_bias=False, kernel_regularizer=keras.regularizers.l2(lamb))(x)\n",
        "\tx = layers.BatchNormalization()(x)\n",
        "\tx = layers.Activation(activation)(x)\n",
        "\n",
        "\tx = layers.Dense(units, use_bias=False, kernel_regularizer=keras.regularizers.l2(lamb))(x)\n",
        "\tx = layers.BatchNormalization()(x)\n",
        "\n",
        "\tx = layers.add([x, input_tensor])\n",
        "\tx = layers.Activation(activation)(x)\n",
        "\n",
        "\treturn x\n",
        "\n",
        "def dens_block(input_tensor,units, activation = 'lrelu', lamb = 0.1):\n",
        "\t\"\"\"A block that has a dense layer at shortcut.\n",
        "\t# Arguments\n",
        "\t\tinput_tensor: input tensor\n",
        "\t\tunit: output tensor shape\n",
        "\t# Returns\n",
        "\t\tOutput tensor for the block.\n",
        "\t\"\"\"\n",
        "    \n",
        "    \n",
        "\tif activation == 'tanh':\n",
        "\t  activation = activation\n",
        "\telse:\n",
        "\t  activation = LeakyReLU(alpha=0.01)\n",
        "\n",
        "\tx = layers.Dense(units, use_bias=False, kernel_regularizer=keras.regularizers.l2(lamb))(input_tensor)\n",
        "\tx = layers.BatchNormalization()(x)\n",
        "\tx = layers.Activation(activation)(x)\n",
        "\n",
        "\tx = layers.Dense(units, use_bias=False, kernel_regularizer=keras.regularizers.l2(lamb))(x)\n",
        "\tx = layers.BatchNormalization()(x)\n",
        "\tx = layers.Activation(activation)(x)\n",
        "\n",
        "\tx = layers.Dense(units, use_bias=False, kernel_regularizer=keras.regularizers.l2(lamb))(x)\n",
        "\tx = layers.BatchNormalization()(x)\n",
        "\n",
        "\tshortcut = layers.Dense(units, use_bias=False)(input_tensor)\n",
        "\tshortcut = layers.BatchNormalization()(shortcut)\n",
        "\n",
        "\n",
        "\tx = layers.add([x, shortcut])\n",
        "\tx = layers.Activation(activation)(x)\n",
        "\treturn x"
      ],
      "execution_count": null,
      "outputs": []
    },
    {
      "cell_type": "code",
      "metadata": {
        "id": "GpMifQHtcGgy"
      },
      "source": [
        "def DNNeReg(n_out,n_neurons):\n",
        "\t\"\"\"Instantiates the ResNet50 architecture.\n",
        "\t# Arguments        \n",
        "\t\tinput_tensor: optional Keras tensor (i.e. output of `layers.Input()`)\n",
        "\t\t\tto use as input for the model.        \n",
        "\t# Returns\n",
        "\t\tA Keras model instance.\n",
        "\t\"\"\"\n",
        "\tRes_input = layers.Input(shape=(25,))\n",
        "\n",
        "\twidth = 1.5* n_neurons\n",
        "\n",
        "\tx0 = sequential_block(Res_input,width,activation='tanh')\n",
        " \n",
        "#First Block\n",
        "\tx = dens_block(x0,width,activation='tanh')\n",
        "\tx = identity_block(x,width,activation='tanh')\n",
        "\tx = identity_block(x,width,activation='tanh')\n",
        "\t\n",
        "\tx = dens_block(x,width,activation='tanh')\n",
        "\tx = identity_block(x,width,activation='tanh')\n",
        "\tx = identity_block(x,width,activation='tanh')\n",
        "\t\n",
        "\tx = dens_block(x,width,activation='tanh')\n",
        "\tx = identity_block(x,width,activation='tanh')\n",
        "\tx = identity_block(x,width,activation='tanh')\n",
        "\t\n",
        "\tx = dens_block(x,width,activation='tanh')\n",
        "\tx = identity_block(x,width,activation='tanh')\n",
        "\tx = identity_block(x,width,activation='tanh')\n",
        "\t\n",
        "\tx = dens_block(x,width,activation='tanh')\n",
        "\tx = identity_block(x,width,activation='tanh')\n",
        "\tx = identity_block(x,width,activation='tanh')\n",
        "\t\n",
        "\tx = dens_block(x,width,activation='tanh')\n",
        "\tx = identity_block(x,width,activation='tanh')\n",
        "\tx = identity_block(x,width,activation='tanh')\n",
        "\t\n",
        "\tx = dens_block(x,width,activation='tanh')\n",
        "\tx = identity_block(x,width,activation='tanh')\n",
        "\tx = identity_block(x,width,activation='tanh')\n",
        "\t\n",
        "\tshortcut = layers.Dense(width, use_bias=False)(x0)\n",
        "\tshortcut = layers.BatchNormalization()(shortcut)\n",
        "\tx1 = layers.add([x, shortcut])\n",
        "    \n",
        "#Second Block    \n",
        "\tx = dens_block(x1,width,activation='tanh')\n",
        "\tx = identity_block(x,width,activation='tanh')\n",
        "\tx = identity_block(x,width,activation='tanh')\n",
        "\t\n",
        "\tx = dens_block(x,width,activation='tanh')\n",
        "\tx = identity_block(x,width,activation='tanh')\n",
        "\tx = identity_block(x,width,activation='tanh')\n",
        "\t\n",
        "\tx = dens_block(x,width,activation='tanh')\n",
        "\tx = identity_block(x,width,activation='tanh')\n",
        "\tx = identity_block(x,width,activation='tanh')\n",
        "\t\n",
        "\tx = dens_block(x,width,activation='tanh')\n",
        "\tx = identity_block(x,width,activation='tanh')\n",
        "\tx = identity_block(x,width,activation='tanh')\n",
        "\t\n",
        "\tx = dens_block(x,width,activation='tanh')\n",
        "\tx = identity_block(x,width,activation='tanh')\n",
        "\tx = identity_block(x,width,activation='tanh')\n",
        "\t\n",
        "\tx = dens_block(x,width,activation='tanh')\n",
        "\tx = identity_block(x,width,activation='tanh')\n",
        "\tx = identity_block(x,width,activation='tanh')\n",
        "\t\n",
        "\tx = dens_block(x,width,activation='tanh')\n",
        "\tx = identity_block(x,width,activation='tanh')\n",
        "\tx = identity_block(x,width,activation='tanh')\n",
        "\t\n",
        "\tshortcut = layers.Dense(width, use_bias=False)(x1)\n",
        "\tshortcut = layers.BatchNormalization()(shortcut)\n",
        "\tx2 = layers.add([x, shortcut])\n",
        "\n",
        "#Third Block\n",
        "\tx = dens_block(x2,width,activation='tanh')\n",
        "\tx = identity_block(x,width,activation='tanh')\n",
        "\tx = identity_block(x,width,activation='tanh')\n",
        "\t\n",
        "\tx = dens_block(x,width,activation='tanh')\n",
        "\tx = identity_block(x,width,activation='tanh')\n",
        "\tx = identity_block(x,width,activation='tanh')\n",
        "\t\n",
        "\tx = dens_block(x,width,activation='tanh')\n",
        "\tx = identity_block(x,width,activation='tanh')\n",
        "\tx = identity_block(x,width,activation='tanh')\n",
        "\t\n",
        "\tx = dens_block(x,width,activation='tanh')\n",
        "\tx = identity_block(x,width,activation='tanh')\n",
        "\tx = identity_block(x,width,activation='tanh')\n",
        "\t\n",
        "\tx = dens_block(x,width,activation='tanh')\n",
        "\tx = identity_block(x,width,activation='tanh')\n",
        "\tx = identity_block(x,width,activation='tanh')\n",
        "\t\n",
        "\tx = dens_block(x,width,activation='tanh')\n",
        "\tx = identity_block(x,width,activation='tanh')\n",
        "\tx = identity_block(x,width,activation='tanh')\n",
        " \n",
        "\tx = dens_block(x,width,activation='tanh')\n",
        "\tx = identity_block(x,width,activation='tanh')\n",
        "\tx = identity_block(x,width,activation='tanh')\n",
        "\t\n",
        "\n",
        "\tshortcut = layers.Dense(width, use_bias=False)(x2)\n",
        "\tshortcut = layers.BatchNormalization()(shortcut)\n",
        "\tx3 = layers.add([x, shortcut])\n",
        "\n",
        "#Fourth Block\n",
        "\tx = dens_block(x3,width,activation='tanh')\n",
        "\tx = identity_block(x,width,activation='tanh')\n",
        "\tx = identity_block(x,width,activation='tanh')\n",
        "\t\n",
        "\tx = dens_block(x,width,activation='tanh')\n",
        "\tx = identity_block(x,width,activation='tanh')\n",
        "\tx = identity_block(x,width,activation='tanh')\n",
        "\t\n",
        "\tx = dens_block(x,width,activation='tanh')\n",
        "\tx = identity_block(x,width,activation='tanh')\n",
        "\tx = identity_block(x,width,activation='tanh')\n",
        "\t\n",
        "\tx = dens_block(x,width,activation='tanh')\n",
        "\tx = identity_block(x,width,activation='tanh')\n",
        "\tx = identity_block(x,width,activation='tanh')\n",
        "\t\n",
        "\tx = dens_block(x,width,activation='tanh')\n",
        "\tx = identity_block(x,width,activation='tanh')\n",
        "\tx = identity_block(x,width,activation='tanh')\n",
        "\t\n",
        "\tx = dens_block(x,width,activation='tanh')\n",
        "\tx = identity_block(x,width,activation='tanh')\n",
        "\tx = identity_block(x,width,activation='tanh')\n",
        "\t\n",
        "\tshortcut = layers.Dense(width, use_bias=False)(x3)\n",
        "\tshortcut = layers.BatchNormalization()(shortcut)\n",
        "\tx4 = layers.add([x, shortcut])\n",
        "\n",
        "#Fith Block\n",
        "\tx = dens_block(x4,width,activation='tanh')\n",
        "\tx = identity_block(x,width,activation='tanh')\n",
        "\tx = identity_block(x,width,activation='tanh')\n",
        "\t\n",
        "\tx = dens_block(x,width,activation='tanh')\n",
        "\tx = identity_block(x,width,activation='tanh')\n",
        "\tx = identity_block(x,width,activation='tanh')\n",
        "\t\n",
        "\tx = dens_block(x,width,activation='tanh')\n",
        "\tx = identity_block(x,width,activation='tanh')\n",
        "\tx = identity_block(x,width,activation='tanh')\n",
        "\t\n",
        "\tx = dens_block(x,width,activation='tanh')\n",
        "\tx = identity_block(x,width,activation='tanh')\n",
        "\tx = identity_block(x,width,activation='tanh')\n",
        "\t\n",
        "\tx = dens_block(x,width,activation='tanh')\n",
        "\tx = identity_block(x,width,activation='tanh')\n",
        "\tx = identity_block(x,width,activation='tanh')\n",
        "\t\n",
        "\tx = dens_block(x,width,activation='tanh')\n",
        "\tx = identity_block(x,width,activation='tanh')\n",
        "\tx = identity_block(x,width,activation='tanh')\n",
        "\t\n",
        "\tshortcut = layers.Dense(width, use_bias=False)(x3)\n",
        "\tshortcut = layers.BatchNormalization()(shortcut)\n",
        "\tx = layers.add([x, shortcut])\n",
        "\t\n",
        "\tx = layers.BatchNormalization()(x)  \n",
        "\tx = layers.Dense(n_out,activation='tanh')(x)\n",
        "\tmodel = models.Model(inputs=Res_input, outputs=x)\n",
        "\n",
        "\treturn model"
      ],
      "execution_count": null,
      "outputs": []
    },
    {
      "cell_type": "markdown",
      "metadata": {
        "id": "fkqMKi49cGgy"
      },
      "source": [
        "The model has very long recursion and it exceeds the program's default limit. See below the explanation to increase in the recursion limit.\n",
        "\n",
        "*`sys.setrecursionlimit()` method is used to set the maximum depth of the Python interpreter stack to the required limit. This limit prevents any program from getting into infinite recursion, otherwise infinite recursion will lead to overflow of the C stack and crash the Python.*\n",
        "\n",
        "<font size=\"2\">Extracted from [this link](https://www.geeksforgeeks.org/python-sys-setrecursionlimit-method/)</font>"
      ]
    },
    {
      "cell_type": "code",
      "metadata": {
        "id": "XJ8ln7RycGgy"
      },
      "source": [
        "import sys\n",
        "print(sys.getrecursionlimit())"
      ],
      "execution_count": null,
      "outputs": []
    },
    {
      "cell_type": "code",
      "metadata": {
        "id": "afqt1-nEcGgy"
      },
      "source": [
        "sys.setrecursionlimit(1500)"
      ],
      "execution_count": null,
      "outputs": []
    },
    {
      "cell_type": "code",
      "metadata": {
        "id": "pxhLTNJpcGgy"
      },
      "source": [
        "n_neurons = 2*n_out\n",
        "\n",
        "model = DNNeReg(2*n_out,n_neurons)\n",
        "model.summary()  \n",
        "opt = keras.optimizers.Adam(learning_rate = 0.01, decay = 0.05)\n",
        "\n",
        "model.compile(optimizer = opt,\n",
        "                loss='mean_squared_error',\n",
        "                metrics=['mean_absolute_error', 'mean_absolute_percentage_error'])"
      ],
      "execution_count": null,
      "outputs": []
    },
    {
      "cell_type": "code",
      "metadata": {
        "id": "wEhWMtgxcGgz"
      },
      "source": [
        "plot_model(model, to_file='NN_24bars.png', show_shapes=True)"
      ],
      "execution_count": null,
      "outputs": []
    },
    {
      "cell_type": "markdown",
      "metadata": {
        "id": "kBLCdIJacGgz"
      },
      "source": [
        "#### Training the ResNet and saving weights\n",
        "\n",
        "You can use a trained model without having to retrain it, or pick-up training where you left off in case the training process was interrupted. The `tf.keras.callbacks.ModelCheckpoint` callback allows you to continually save the model both *during* and at *the end* of training."
      ]
    },
    {
      "cell_type": "code",
      "metadata": {
        "id": "tpqDsVpzcGgz"
      },
      "source": [
        "n_epochs = 14000\n",
        "batch_size = 1024\n",
        "stop = EarlyStopping(monitor='val_loss', patience=10,verbose=2, mode='auto')\n",
        "\n",
        "checkpoint_path = \"training_1/cp.ckpt\"\n",
        "checkpoint_dir = os.path.dirname(checkpoint_path)\n",
        "\n",
        "# Create a callback that saves the model's weights every 3000 epochs\n",
        "cp_callback = ModelCheckpoint(filepath=checkpoint_path, \n",
        "                              verbose=1, save_weights_only=True,\n",
        "                              save_freq=4*batch_size)\n",
        "\n",
        "patience = 100\n",
        "rlrp = ReduceLROnPlateau(monitor='val_loss', factor=0.1, \n",
        "                         patience=patience, min_delta=1E-7)"
      ],
      "execution_count": null,
      "outputs": []
    },
    {
      "cell_type": "code",
      "metadata": {
        "id": "q_3tj3D8cGgz"
      },
      "source": [
        "starttime = datetime.datetime.now()\n",
        "print('{:%Y-%m-%d %H:%M}'.format( starttime ))\n",
        "\n",
        "\n",
        "# fit model\n",
        "history = model.fit(x_train_sca, y_train_sca, epochs=n_epochs, \n",
        "                    batch_size=batch_size, \n",
        "                    verbose=0, callbacks=[rlrp, cp_callback], \n",
        "                    validation_data=(x_val_sca, y_val_sca)\n",
        "                    )\n",
        "endtime = datetime.datetime.now()\n",
        "\n",
        "print('{:%Y-%m-%d %H:%M}'.format( endtime))\n",
        "\n",
        "\n",
        "\n",
        "epochs = range(len(history.history['loss']))\n",
        "plt.plot(epochs, history.history['loss'], color = colors[0])\n",
        "plt.plot(epochs, history.history['val_loss'], color = colors[1])\n",
        "plt.legend(['Training loss', 'Validation loss'])\n",
        "plt.title('Resnet Performance')\n",
        "plt.xlabel('Number of epochs')\n",
        "plt.ylabel('Loss')\n",
        "plt.ylim((0.0,3000))\n",
        "plt.xlim((0,15000))\n",
        "plt.show()"
      ],
      "execution_count": null,
      "outputs": []
    },
    {
      "cell_type": "code",
      "metadata": {
        "id": "gNYJ-r07cGgz"
      },
      "source": [
        "epochs = range(len(history.history['loss']))\n",
        "plt.plot(epochs, history.history['loss'], color = colors[0])\n",
        "plt.plot(epochs, history.history['val_loss'], color = colors[1])\n",
        "plt.legend(['Training loss', 'Validation loss'])\n",
        "#plt.title('Resnet Performance')\n",
        "plt.xlabel('Number of epochs')\n",
        "plt.ylabel('Loss')\n",
        "plt.ylim((0.0,0.02))\n",
        "plt.xlim((0,15000))\n",
        "plt.show()"
      ],
      "execution_count": null,
      "outputs": []
    },
    {
      "cell_type": "code",
      "metadata": {
        "id": "n88EUh08cGgz"
      },
      "source": [
        "pred_sca_train = model.predict(x_train_sca)\n",
        "pred_sca_val = model.predict(x_val_sca)\n",
        "print(pred_sca_val.shape,pred_sca_train.shape)"
      ],
      "execution_count": null,
      "outputs": []
    },
    {
      "cell_type": "code",
      "metadata": {
        "id": "wZFlmpmWcGg0"
      },
      "source": [
        "predict_curves('train',pred_sca_train, y_train, areas_train, ex = [3733,4387,3011,2312,6006,7731]) \n",
        "predict_curves('val',pred_sca_val, y_val, areas_val, ex = [335,8,511,409,925,775])"
      ],
      "execution_count": null,
      "outputs": []
    },
    {
      "cell_type": "code",
      "metadata": {
        "id": "nhTTPRTowet-"
      },
      "source": [
        "y_pred_train = normalizer_y.inverse_transform(pred_sca_train)\r\n",
        "y_pred_val = normalizer_y.inverse_transform(pred_sca_val)"
      ],
      "execution_count": null,
      "outputs": []
    },
    {
      "cell_type": "markdown",
      "metadata": {
        "id": "KI9rY_vzwOR4"
      },
      "source": [
        "Plot graphs with severe snapback"
      ]
    },
    {
      "cell_type": "code",
      "metadata": {
        "id": "ip33IqqxcGg1",
        "outputId": "442ad066-b12a-4778-f6d5-c963ec8110cd"
      },
      "source": [
        "severe_snapback_train = [7936,4056,4241,6472,9813,4480,787,9517,8874,2668,3341,1944,8911] \n",
        "severe_snapback_val = [156,8126,6978,9971,5666,5678,8748]\n",
        "\n",
        "severe_snapback = [9517, 787]\n",
        "fig, ax = plt.subplots(nrows=2, ncols=1, sharex=True, sharey=True, constrained_layout=True,figsize=(5,10))\n",
        "ax = ax.flatten()\n",
        "\n",
        "for j in range(2):\n",
        "    i = severe_snapback[j]\n",
        "    print(i)\n",
        "    disp_aux = output.loc[output['area_id'].isin([i])].u3.values\n",
        "    forc_aux = output.loc[output['area_id'].isin([i])].force.values/1000.\n",
        "    ax[j].plot(disp_aux,forc_aux, color=colors[0], linewidth=2)\n",
        "    try:\n",
        "        k = np.where(areas_train == i)\n",
        "        index = k[0][0]\n",
        "        ax[j].scatter(y_pred_train[index][0:n_out],y_pred_train[index][-n_out:],s=20, color = colors[1])\n",
        "        ax[j].legend(['Target', 'Predicted Train'])\n",
        "        ax[j].set_xlabel('Displacement [mm]')\n",
        "        ax[j].set_ylabel('Reaction Force [kN]')\n",
        "        ax[j].set_title('Structure ID '+str(i))\n",
        "    except:\n",
        "        k = np.where(areas_val == i)\n",
        "        index = k[0][0]\n",
        "        ax[j].scatter(y_pred_val[index][0:n_out],y_pred_val[index][-n_out:],s=20, color = colors[1])\n",
        "        ax[j].legend(['Target', 'Predicted Validation'])\n",
        "        ax[j].set_xlabel('Displacement [mm]')\n",
        "        ax[j].set_ylabel('Reaction Force [kN]')\n",
        "        ax[j].set_title(' ID '+str(i))\n",
        "        \n",
        "plt.xlim((0.0,70.))\n",
        "plt.show()\n",
        "print(areas_train[1782])"
      ],
      "execution_count": null,
      "outputs": [
        {
          "output_type": "stream",
          "text": [
            "9517\n",
            "787\n"
          ],
          "name": "stdout"
        },
        {
          "output_type": "display_data",
          "data": {
            "image/png": "[encoded data removed]",
            "text/plain": [
              "<Figure size 360x720 with 2 Axes>"
            ]
          },
          "metadata": {
            "tags": []
          }
        },
        {
          "output_type": "stream",
          "text": [
            "36\n"
          ],
          "name": "stdout"
        }
      ]
    },
    {
      "cell_type": "markdown",
      "metadata": {
        "id": "oyi9JSUYcGg0"
      },
      "source": [
        "## Metrics\n",
        "\n",
        "The first peak force is calculated for the following data sets:\n",
        "* processed results from FEA with 50 points;\n",
        "* results of DNN from validation set;\n",
        "* results of DNN from training set;\n",
        "and compared with the original values obtained from FEA."
      ]
    },
    {
      "cell_type": "code",
      "metadata": {
        "id": "rNSZBGrLcGg0"
      },
      "source": [
        "MaxForce_train = []\n",
        "MaxForce_val = []\n",
        "MaxForce = []\n",
        "MaxForce_50 = []\n",
        "\n",
        "\n",
        "for i in range(len(pred_sca_train)):\n",
        "    disp_masked = np.ma.masked_where((y_pred_train[i,0:49] < 0.) | (y_pred_train[i,0:49] > 12.), y_pred_train[i,0:49])\n",
        "    forc_masked = np.ma.masked_where(disp_masked.mask, y_pred_train[i,0+50:49+50])\n",
        "    valueForce = np.max(forc_masked)\n",
        "    index = np.argmax(forc_masked)\n",
        "    valueDisp = y_pred_train[i,index]\n",
        "    area = areas_train[i]\n",
        "    MaxForce_train.append([area,valueDisp,valueForce])\n",
        "MaxForce_train = np.array(MaxForce_train)\n",
        "\n",
        "for i in range(len(pred_sca_val)):\n",
        "    disp_masked = np.ma.masked_where((y_pred_val[i,0:49] < 0.) | (y_pred_val[i,0:49] > 12.), y_pred_val[i,0:49])\n",
        "    forc_masked = np.ma.masked_where(disp_masked.mask, y_pred_val[i,0+50:49+50])\n",
        "    valueForce = np.max(forc_masked)\n",
        "    index = np.argmax(forc_masked)\n",
        "    valueDisp = y_pred_val[i,index]\n",
        "    area = areas_val[i]\n",
        "    MaxForce_val.append([area, valueDisp,valueForce])\n",
        "MaxForce_val = np.array(MaxForce_val)\n",
        "\n",
        "for i in areaID:\n",
        "    disp_aux = output.loc[output['area_id'].isin([i])].u3.values\n",
        "    forc_aux = output.loc[output['area_id'].isin([i])].force.values/1000.\n",
        "    disp_masked = np.ma.masked_where((disp_aux < 0.) | (disp_aux > 12.), disp_aux)\n",
        "    forc_masked = np.ma.masked_where(disp_masked.mask, forc_aux)\n",
        "    valueForce = np.max(forc_masked)\n",
        "    index = np.argmax(forc_masked)\n",
        "    valueDisp = disp_masked[index]\n",
        "    MaxForce.append([i,valueDisp,valueForce])\n",
        "MaxForce = np.array(MaxForce)\n",
        "\n",
        "for i in areaID:\n",
        "    a = np.where(areaID == i)\n",
        "    disp_aux =np.squeeze( disp[a,:])\n",
        "    forc_aux = np.squeeze(forc[a,:])\n",
        "    disp_masked = np.ma.masked_where((disp_aux < 0.) | (disp_aux > 12.), disp_aux)\n",
        "    forc_masked = np.ma.masked_where(disp_masked.mask, forc_aux)\n",
        "    valueForce = np.max(forc_masked)\n",
        "    index = np.argmax(forc_masked, axis = 0)\n",
        "    valueDisp = disp_masked[index]\n",
        "    MaxForce_50.append([i,valueDisp,valueForce])\n",
        "MaxForce_50 = np.array(MaxForce_50)\n",
        "\n",
        "print('Dimension of maximum values in validation dataset       :', MaxForce_val.shape)\n",
        "print('Dimension of maximum values in train dataset            :', MaxForce_train.shape)\n",
        "print('Dimension of maximum values in Abaqus dataset           :', MaxForce.shape)\n",
        "print('Dimension of maximum values in Abaqus dataset 50 points :', MaxForce_50.shape)\n",
        "\n",
        "MaxForce_all =[MaxForce[np.argmax(MaxForce[:,2]),0],MaxForce_50[np.argmax(MaxForce_50[:,2]),0], \n",
        "                 MaxForce_train[np.argmax(MaxForce_train[:,2]),0],\n",
        "                 MaxForce_val[np.argmax(MaxForce_val[:,2]),0]]\n",
        "print('The structures with maximum load, in the four datasets, are, respectively:')\n",
        "print('{:d},{:d},{:d},{:d}'.format(int(MaxForce_all[0]),int(MaxForce_all[1]),int(MaxForce_all[2]),int(MaxForce_all[3])))"
      ],
      "execution_count": null,
      "outputs": []
    },
    {
      "cell_type": "markdown",
      "metadata": {
        "id": "oeAXUua4cGg0"
      },
      "source": [
        "The error between the maximum force in FEA and DNN."
      ]
    },
    {
      "cell_type": "code",
      "metadata": {
        "id": "rdbG5ncgcGg0"
      },
      "source": [
        "error_train = []\n",
        "error_val = []\n",
        "error_50 = []\n",
        "\n",
        "\n",
        "for i in range(len(MaxForce_train)):\n",
        "    aux = np.where(MaxForce_50 == int(MaxForce_train[i,0]))\n",
        "    index = aux[0][0]\n",
        "    error_train.append(np.abs(MaxForce_50[index,2]-MaxForce_train[i,2])) \n",
        "error_train = np.array(error_train)\n",
        "\n",
        "for i in range(len(MaxForce_val)):\n",
        "    aux = np.where(MaxForce_50 == int(MaxForce_val[i,0]))\n",
        "    index = aux[0][0]\n",
        "    error_val.append(np.abs(MaxForce_50[index,2]-MaxForce_val[i,2])) \n",
        "error_val = np.array(error_val)\n",
        "\n",
        "for i in range(len(MaxForce)):\n",
        "    error_50.append(np.abs(MaxForce[i,2]-MaxForce_50[i,2])) \n",
        "error_50 = np.array(error_50)\n",
        "\n",
        "print('Dimension of error in train set          :', error_train.shape)\n",
        "print('Dimension of error in validation set     :', error_val.shape)\n",
        "print('Dimension of error due to interpolation  :', error_50.shape)"
      ],
      "execution_count": null,
      "outputs": []
    },
    {
      "cell_type": "markdown",
      "metadata": {
        "id": "Tabjm_buwDw8"
      },
      "source": [
        "Plotting graphs with the maximum error."
      ]
    },
    {
      "cell_type": "code",
      "metadata": {
        "id": "0oP9UkZJcGg0"
      },
      "source": [
        "max_error_train = np.argmax(error_train)\n",
        "max_error_val = np.argmax(error_val)\n",
        "max_error_50 = np.argmax(error_50)\n",
        "\n",
        "arg_errors = [max_error_train,max_error_val,max_error_50]\n",
        "areaID_errors = [MaxForce_train[max_error_train,0],MaxForce_val[max_error_val,0],MaxForce_50[max_error_50,0]]\n",
        "    \n",
        "fig, ax = plt.subplots(nrows=1, ncols=3, sharex=True, sharey=True, constrained_layout=True,figsize=(20,5))\n",
        "\n",
        "for i,j in zip(areaID_errors,range(3)):\n",
        "    disp_aux = output.loc[output['area_id'].isin([i])].u3.values\n",
        "    forc_aux = output.loc[output['area_id'].isin([i])].force.values/1000.\n",
        "    ax[j].plot(disp_aux,forc_aux, color=colors[0], linewidth=2, alpha = 0.6)\n",
        "    if j ==0: \n",
        "        k = np.where(areas_train == i)\n",
        "        index = k[0][0]\n",
        "        ax[j].scatter(y_pred_train[index][0:n_out],y_pred_train[index][-n_out:],s=20, color = colors[1])\n",
        "        ax[j].legend(['Target', 'Predicted Train'])\n",
        "        ax[j].set_xlabel('Displacement [mm]')\n",
        "        ax[j].set_ylabel('Reaction Force [kN]')\n",
        "        ax[j].set_title('Structure ID '+str(i))\n",
        "\n",
        "    elif j == 1:\n",
        "        k = np.where(areas_val == i)\n",
        "        index = k[0][0]\n",
        "        ax[j].scatter(y_pred_val[index][0:n_out],y_pred_val[index][-n_out:],s=20, color = colors[1])\n",
        "        ax[j].legend(['Target', 'Predicted Validation'])\n",
        "        ax[j].set_xlabel('Displacement [mm]')\n",
        "        ax[j].set_ylabel('Reaction Force [kN]')\n",
        "        ax[j].set_title('Structure ID '+str(i))\n",
        "\n",
        "    else:\n",
        "        k = np.where(areaID == i)\n",
        "        index = k[0][0]\n",
        "        ax[j].scatter(disp[index,:], forc[index,:],s=20, color = colors[1])\n",
        "        ax[j].legend(['Abaqus', 'Interpolation'])\n",
        "        ax[j].set_xlabel('Displacement [mm]')\n",
        "        ax[j].set_ylabel('Reaction Force [kN]')\n",
        "        ax[j].set_title('Structure ID '+str(i))\n",
        "        \n",
        "        \n",
        "plt.xlim((0.0,70.))\n",
        "plt.show()"
      ],
      "execution_count": null,
      "outputs": []
    },
    {
      "cell_type": "code",
      "metadata": {
        "id": "qcvpRXXgcGg1"
      },
      "source": [
        "\n",
        "data =np.array([[np.max(MaxForce[:,2]),np.max(MaxForce_50[:,2]), \n",
        "                 np.max(MaxForce_train[:,2]),np.max(MaxForce_val[:,2])],    \n",
        "        [np.mean(MaxForce[:,2]),np.mean(MaxForce_50[:,2]),\n",
        "         np.mean(MaxForce_train[:,2]),np.mean(MaxForce_val[:,2])],\n",
        "        [np.std(MaxForce[:,2]),np.std(MaxForce_50[:,2]),\n",
        "         np.std(MaxForce_train[:,2]),np.std(MaxForce_val[:,2])],\n",
        "        [None, None, np.max(error_train),np.max(error_val)]\n",
        "       ])\n",
        "\n",
        "# pass column names in the columns parameter \n",
        "df = pd.DataFrame(data)\n",
        "\n",
        "df = pd.DataFrame(data,\n",
        "                  columns=['Abaqus value','Abaqus 50 points', 'Train value', 'Validation value'],\n",
        "                  index=['Maximum', 'Mean', 'Std', 'Error']\n",
        ")\n",
        "\n",
        "df"
      ],
      "execution_count": null,
      "outputs": []
    },
    {
      "cell_type": "code",
      "metadata": {
        "id": "F6M18rdDcGg1",
        "outputId": "122499e7-faef-491b-a219-aa4f1be556a7"
      },
      "source": [
        "Percentage =  [np.max(error_train)/np.max(MaxForce_train[:,2]),np.max(error_val)/np.max(MaxForce_val[:,2])]\n",
        "print(Percentage)"
      ],
      "execution_count": null,
      "outputs": [
        {
          "output_type": "stream",
          "text": [
            "[0.12505400183591323, 0.18561752992484123]\n"
          ],
          "name": "stdout"
        }
      ]
    },
    {
      "cell_type": "code",
      "metadata": {
        "id": "Kfsb1GnfcGg2"
      },
      "source": [
        "model.save('OptimalModel.h5')"
      ],
      "execution_count": null,
      "outputs": []
    }
  ]
}